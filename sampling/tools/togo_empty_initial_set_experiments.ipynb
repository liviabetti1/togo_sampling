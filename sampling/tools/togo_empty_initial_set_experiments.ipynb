{
 "cells": [
  {
   "cell_type": "markdown",
   "id": "774d23fe",
   "metadata": {},
   "source": [
    "# Togo Active Learning Experiment Runner\n",
    "\n",
    "This notebook manages the execution of sampling experiments on the Togo soil fertility dataset.\n",
    "\n",
    "Author: Livia Betti  \n",
    "Date: July 2025"
   ]
  },
  {
   "cell_type": "markdown",
   "id": "444e0d2e",
   "metadata": {},
   "source": [
    "### To run this notebook, the following tasks should be completed:\n",
    "1. Generate relevant groups in Togo. I have generated group assignments based on regions, but if there are other representative groups that might be useful, we can generate those as well.\n",
    "2. Assign (distance-based) costs for the Convenience sampling setting"
   ]
  },
  {
   "cell_type": "markdown",
   "id": "32c8db68",
   "metadata": {},
   "source": [
    "## Imports"
   ]
  },
  {
   "cell_type": "code",
   "execution_count": null,
   "id": "56fc9c7e",
   "metadata": {},
   "outputs": [],
   "source": [
    "%pip install simplejson\n",
    "%pip install yacs"
   ]
  },
  {
   "cell_type": "code",
   "execution_count": null,
   "id": "ce2a45ae",
   "metadata": {},
   "outputs": [],
   "source": [
    "%pip install numpy\n",
    "%pip install dill\n",
    "%pip install pandas\n",
    "%pip install geopandas\n",
    "%pip install matplotlib\n",
    "%pip install rasterio"
   ]
  },
  {
   "cell_type": "code",
   "execution_count": null,
   "id": "cef8388b",
   "metadata": {},
   "outputs": [],
   "source": [
    "%pip install scikit-learn"
   ]
  },
  {
   "cell_type": "code",
   "execution_count": null,
   "id": "c34b4ef7",
   "metadata": {},
   "outputs": [],
   "source": [
    "%pip install torchgeo==0.6.2"
   ]
  },
  {
   "cell_type": "code",
   "execution_count": 1,
   "id": "14ba1b55",
   "metadata": {},
   "outputs": [],
   "source": [
    "import sys\n",
    "import os"
   ]
  },
  {
   "cell_type": "code",
   "execution_count": 2,
   "id": "e5d9e73b",
   "metadata": {},
   "outputs": [],
   "source": [
    "def add_path(path):\n",
    "    if path not in sys.path:\n",
    "        sys.path.insert(0, path)\n",
    "\n",
    "add_path(os.path.abspath('..'))"
   ]
  },
  {
   "cell_type": "code",
   "execution_count": 3,
   "id": "cdb02e06",
   "metadata": {},
   "outputs": [],
   "source": [
    "import dill\n",
    "from pathlib import Path\n",
    "from copy import deepcopy\n",
    "\n",
    "from pycls.core.config import cfg, dump_cfg\n",
    "from train import main\n",
    "from pycls.datasets.data import Data\n"
   ]
  },
  {
   "cell_type": "code",
   "execution_count": 4,
   "id": "6d87ec87",
   "metadata": {},
   "outputs": [],
   "source": [
    "base_dir = Path(\"/Users/liviabetti/Desktop/togo_experiments_with_data/sampling\") #replace with path to folder\n",
    "cfg_file = base_dir / \"configs\" / \"togo\" / \"RIDGE.yaml\"  #adjust if needed"
   ]
  },
  {
   "cell_type": "markdown",
   "id": "696580ec",
   "metadata": {},
   "source": [
    "## Core config values"
   ]
  },
  {
   "cell_type": "code",
   "execution_count": 5,
   "id": "a8f7f8d5",
   "metadata": {},
   "outputs": [],
   "source": [
    "cfg.merge_from_file(cfg_file)\n",
    "cfg.DATASET.ROOT_DIR = os.path.abspath(cfg.DATASET.ROOT_DIR)"
   ]
  },
  {
   "cell_type": "code",
   "execution_count": 6,
   "id": "bb5f674e",
   "metadata": {},
   "outputs": [],
   "source": [
    "cfg.DATASET.NAME = \"TOGO\"\n",
    "\n",
    "#Change below to match your setup\n",
    "cfg.DATASET.ROOT_DIR = \"/Users/liviabetti/Desktop/togo_experiments_with_data/\"\n",
    "cfg.DATASET.RESAMPLED_CSV = \"togo_soil_fertility_resampled.csv\"\n",
    "cfg.DATASET.FEATURE_FILE = \"/Users/liviabetti/Desktop/togo_experiments_with_data/planet_medres_normalized_analytic_2020-09_mosaic_features.feather\"\n",
    "cfg.DATASET.IS_FEATHER = True\n",
    "\n",
    "cfg.DATASET.ROOT_DIR = os.path.abspath(cfg.DATASET.ROOT_DIR)"
   ]
  },
  {
   "cell_type": "code",
   "execution_count": 7,
   "id": "88341645",
   "metadata": {},
   "outputs": [],
   "source": [
    "#static experiment parameters\n",
    "seeds = [1, 42, 123, 456, 789, 1234, 5678, 9101, 1213, 1415]\n",
    "methods = [\"random\", \"greedycost\", \"poprisk\", \"similarity\"]\n",
    "budgets = [100, 500, 1000, 5000, 10000]\n",
    "\n",
    "# Common\n",
    "init_name = \"empty_initial_set\"\n",
    "dataset = \"togo\"\n",
    "group_type = \"regions\"\n",
    "util_lambda = 0.5\n",
    "group_assignment_path = \"/Users/liviabetti/Desktop/togo_experiments_with_data/groups/group_assignments/admin_1_assignments_dict.pkl\"\n"
   ]
  },
  {
   "cell_type": "code",
   "execution_count": 8,
   "id": "3a5fe38c",
   "metadata": {},
   "outputs": [],
   "source": [
    "def load_assignment(path, ids):\n",
    "    with open(path, \"rb\") as f:\n",
    "        loaded = dill.load(f)\n",
    "\n",
    "    if isinstance(loaded, dict):\n",
    "        mapping = loaded\n",
    "    elif 'ids' in loaded:\n",
    "        mapping = dict(zip(loaded['ids'], loaded['assignments']))\n",
    "    else:\n",
    "        mapping = dict(zip(ids, loaded['assignments']))\n",
    "\n",
    "    return [str(mapping[i]) for i in ids]"
   ]
  },
  {
   "cell_type": "markdown",
   "id": "4965479c",
   "metadata": {},
   "source": [
    "## Cost related arguments"
   ]
  },
  {
   "cell_type": "code",
   "execution_count": null,
   "id": "d16baa59",
   "metadata": {},
   "outputs": [],
   "source": [
    "# === Experiment Grid ===\n",
    "\n",
    "cost_fns = [\"uniform\", \"convenience_based_urban\", \"convenience_based_cluster\"]\n",
    "methods = [\"random\", \"greedycost\", \"poprisk\"]\n",
    "\n",
    "cost_array_path_urban = \"../../costs/costs/distance_based_costs_top1_urban.pkl\"\n",
    "cost_array_path_clusters = \"../../costs/costs/adm_3_distance_based_costs_top1_urban.pkl\""
   ]
  },
  {
   "cell_type": "markdown",
   "id": "73dcdacd",
   "metadata": {},
   "source": [
    "If doing cluster sampling..."
   ]
  },
  {
   "cell_type": "code",
   "execution_count": 14,
   "id": "aa214e09",
   "metadata": {},
   "outputs": [],
   "source": [
    "unit_of_sampling_path = \"../../groups/group_assignments/combined_adm_id_assignments_dict.pkl\"\n",
    "points_per_unit = 5"
   ]
  },
  {
   "cell_type": "code",
   "execution_count": 15,
   "id": "db353d52",
   "metadata": {},
   "outputs": [],
   "source": [
    "similarity_matrix_path = \"../../cosine_similarity_togo.npz\""
   ]
  },
  {
   "cell_type": "code",
   "execution_count": null,
   "id": "7611e9cd",
   "metadata": {},
   "outputs": [
    {
     "ename": "ValueError",
     "evalue": "could not convert string to float: 'TG020206_TG0202_TG02'",
     "output_type": "error",
     "traceback": [
      "\u001b[31m---------------------------------------------------------------------------\u001b[39m",
      "\u001b[31mValueError\u001b[39m                                Traceback (most recent call last)",
      "\u001b[36mCell\u001b[39m\u001b[36m \u001b[39m\u001b[32mIn[19]\u001b[39m\u001b[32m, line 47\u001b[39m\n\u001b[32m     44\u001b[39m \u001b[38;5;28;01melse\u001b[39;00m:\n\u001b[32m     45\u001b[39m     idx_to_unit = \u001b[38;5;28mdict\u001b[39m(\u001b[38;5;28mzip\u001b[39m(train_data.ids, loaded[\u001b[33m'\u001b[39m\u001b[33massignments\u001b[39m\u001b[33m'\u001b[39m]))\n\u001b[32m---> \u001b[39m\u001b[32m47\u001b[39m base_cfg.UNITS.UNIT_ASSIGNMENT = \u001b[43m[\u001b[49m\u001b[38;5;28;43mfloat\u001b[39;49m\u001b[43m(\u001b[49m\u001b[43midx_to_unit\u001b[49m\u001b[43m[\u001b[49m\u001b[43mi\u001b[49m\u001b[43m]\u001b[49m\u001b[43m)\u001b[49m\u001b[43m \u001b[49m\u001b[38;5;28;43;01mfor\u001b[39;49;00m\u001b[43m \u001b[49m\u001b[43mi\u001b[49m\u001b[43m \u001b[49m\u001b[38;5;129;43;01min\u001b[39;49;00m\u001b[43m \u001b[49m\u001b[43mtrain_data\u001b[49m\u001b[43m.\u001b[49m\u001b[43mids\u001b[49m\u001b[43m]\u001b[49m\n\u001b[32m     48\u001b[39m base_cfg.UNITS.UNIT_TYPE = \u001b[33m'\u001b[39m\u001b[33madmin_3\u001b[39m\u001b[33m'\u001b[39m\n\u001b[32m     49\u001b[39m base_cfg.UNITS.POINTS_PER_UNIT = points_per_unit\n",
      "\u001b[36mCell\u001b[39m\u001b[36m \u001b[39m\u001b[32mIn[19]\u001b[39m\u001b[32m, line 47\u001b[39m, in \u001b[36m<listcomp>\u001b[39m\u001b[34m(.0)\u001b[39m\n\u001b[32m     44\u001b[39m \u001b[38;5;28;01melse\u001b[39;00m:\n\u001b[32m     45\u001b[39m     idx_to_unit = \u001b[38;5;28mdict\u001b[39m(\u001b[38;5;28mzip\u001b[39m(train_data.ids, loaded[\u001b[33m'\u001b[39m\u001b[33massignments\u001b[39m\u001b[33m'\u001b[39m]))\n\u001b[32m---> \u001b[39m\u001b[32m47\u001b[39m base_cfg.UNITS.UNIT_ASSIGNMENT = [\u001b[38;5;28;43mfloat\u001b[39;49m\u001b[43m(\u001b[49m\u001b[43midx_to_unit\u001b[49m\u001b[43m[\u001b[49m\u001b[43mi\u001b[49m\u001b[43m]\u001b[49m\u001b[43m)\u001b[49m \u001b[38;5;28;01mfor\u001b[39;00m i \u001b[38;5;129;01min\u001b[39;00m train_data.ids]\n\u001b[32m     48\u001b[39m base_cfg.UNITS.UNIT_TYPE = \u001b[33m'\u001b[39m\u001b[33madmin_3\u001b[39m\u001b[33m'\u001b[39m\n\u001b[32m     49\u001b[39m base_cfg.UNITS.POINTS_PER_UNIT = points_per_unit\n",
      "\u001b[31mValueError\u001b[39m: could not convert string to float: 'TG020206_TG0202_TG02'"
     ]
    }
   ],
   "source": [
    "for seed in seeds:\n",
    "    for cost_fn in cost_fns:\n",
    "        base_cfg = deepcopy(cfg)\n",
    "        base_cfg.RNG_SEED = seed\n",
    "        base_cfg.INITIAL_SET.STR = init_name\n",
    "\n",
    "        #load dataset early to get train_data.ids for cost and group loading\n",
    "        data_obj = Data(base_cfg)\n",
    "        train_data, _ = data_obj.getDataset(isTrain=True)\n",
    "\n",
    "        #set cost function config\n",
    "        if cost_fn == \"convenience_based_urban\":\n",
    "            base_cfg.COST.FN = \"pointwise_by_array\"\n",
    "            base_cfg.COST.NAME = \"convenience_based_urban\"\n",
    "\n",
    "            cost_path = cost_array_path_urban\n",
    "            with open(cost_path, \"rb\") as f:\n",
    "                loaded = dill.load(f)\n",
    "            if 'ids' in loaded:\n",
    "                idx_to_cost = dict(zip(loaded['ids'], loaded['costs']))\n",
    "            else:\n",
    "                idx_to_cost = dict(zip(train_data.ids, loaded['assignments']))\n",
    "\n",
    "            base_cfg.COST.ARRAY = [float(idx_to_cost[i]) for i in train_data.ids]\n",
    "\n",
    "        if cost_fn == \"convenience_based_cluster\":\n",
    "            base_cfg.COST.FN = \"pointwise_by_array\"\n",
    "            base_cfg.COST.NAME = \"convenience_based_cluster\"\n",
    "\n",
    "            cost_path = cost_array_path_clusters\n",
    "            with open(cost_path, \"rb\") as f:\n",
    "                loaded = dill.load(f)\n",
    "            if 'ids' in loaded:\n",
    "                idx_to_cost = dict(zip(loaded['ids'], loaded['costs']))\n",
    "            else:\n",
    "                idx_to_cost = dict(zip(train_data.ids, loaded['assignments']))\n",
    "\n",
    "            with open(unit_of_sampling_path, \"rb\") as f:\n",
    "                loaded = dill.load(f)\n",
    "            if isinstance(loaded, dict):\n",
    "                idx_to_unit = loaded\n",
    "            elif 'ids' in loaded:\n",
    "                idx_to_unit = dict(zip(loaded['ids'], loaded['assignments']))\n",
    "            else:\n",
    "                idx_to_unit = dict(zip(train_data.ids, loaded['assignments']))\n",
    "\n",
    "            base_cfg.UNITS.UNIT_ASSIGNMENT = [str(idx_to_unit[i]) for i in train_data.ids]\n",
    "            base_cfg.UNITS.UNIT_TYPE = 'admin_3'\n",
    "            base_cfg.UNITS.POINTS_PER_UNIT = points_per_unit\n",
    "\n",
    "        else:\n",
    "            base_cfg.COST.FN = \"uniform\"\n",
    "            base_cfg.COST.NAME = \"uniform\"\n",
    "            base_cfg.COST.ARRAY = []\n",
    "\n",
    "        base_cfg.GROUPS.GROUP_TYPE = group_type\n",
    "        base_cfg.GROUPS.GROUP_ASSIGNMENT = load_assignment(group_assignment_path, train_data.ids)\n",
    "\n",
    "\n",
    "        for method in methods:\n",
    "            for budget in budgets:\n",
    "                this_cfg = deepcopy(base_cfg)\n",
    "                this_cfg.ACTIVE_LEARNING.SAMPLING_FN = method\n",
    "                this_cfg.ACTIVE_LEARNING.BUDGET_SIZE = budget\n",
    "                this_cfg.ACTIVE_LEARNING.UTIL_LAMBDA = util_lambda\n",
    "                this_cfg.ACTIVE_LEARNING.SIMILARITY_MATRIX_PATH = similarity_matrix_path\n",
    "                this_cfg.ACTIVE_LEARNING.OPT = method in [\"greedycost\", \"poprisk\", \"similarity\", \"diversity\"]\n",
    "\n",
    "\n",
    "                exp_name = f\"{dataset}_{init_name}_cost_{cost_fn}_method_{method}\"\n",
    "                if method == \"poprisk\":\n",
    "                    exp_name += f\"_{group_type}\"\n",
    "                exp_name += f\"_budget_{budget}_seed_{seed}\"\n",
    "                this_cfg.EXP_NAME = exp_name\n",
    "\n",
    "                print(f\"[RUNNING] {exp_name}\")\n",
    "                dump_cfg(cfg)\n",
    "                main(this_cfg)"
   ]
  }
 ],
 "metadata": {
  "kernelspec": {
   "display_name": "togo",
   "language": "python",
   "name": "python3"
  },
  "language_info": {
   "codemirror_mode": {
    "name": "ipython",
    "version": 3
   },
   "file_extension": ".py",
   "mimetype": "text/x-python",
   "name": "python",
   "nbconvert_exporter": "python",
   "pygments_lexer": "ipython3",
   "version": "3.11.13"
  }
 },
 "nbformat": 4,
 "nbformat_minor": 5
}
