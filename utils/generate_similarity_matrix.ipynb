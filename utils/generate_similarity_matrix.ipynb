{
 "cells": [
  {
   "cell_type": "code",
   "execution_count": 2,
   "id": "1356b4a1",
   "metadata": {},
   "outputs": [],
   "source": [
    "import numpy as np"
   ]
  },
  {
   "cell_type": "markdown",
   "id": "50a60c03",
   "metadata": {},
   "source": [
    "# Generating the similarity matrix"
   ]
  },
  {
   "cell_type": "code",
   "execution_count": 3,
   "id": "402416ab",
   "metadata": {},
   "outputs": [],
   "source": [
    "from togo_soil_fertility import TogoSoilFertility"
   ]
  },
  {
   "cell_type": "code",
   "execution_count": 4,
   "id": "d27ef5be",
   "metadata": {},
   "outputs": [],
   "source": [
    "#replace with path if necessary\n",
    "train_data = TogoSoilFertility(root=\"..\", isTrain=True, is_feather=True, filepath=\"../planet_medres_normalized_analytic_2020-09_mosaic_features.feather\")\n",
    "test_data = TogoSoilFertility(root=\"..\", isTrain=False, is_feather=True, filepath=\"../planet_medres_normalized_analytic_2020-09_mosaic_features.feather\")"
   ]
  },
  {
   "cell_type": "code",
   "execution_count": 5,
   "id": "31fe3ec4",
   "metadata": {},
   "outputs": [],
   "source": [
    "from sklearn.metrics.pairwise import cosine_similarity\n",
    "\n",
    "#train_data.X: shape (n_train, dim)\n",
    "#test_data.X: shape (n_test, dim)\n",
    "\n",
    "similarity_matrix = cosine_similarity(test_data.X, train_data.X)\n",
    "#shape should be (n_train, n_test)"
   ]
  },
  {
   "cell_type": "code",
   "execution_count": null,
   "id": "f864ed74",
   "metadata": {},
   "outputs": [],
   "source": [
    "np.savez(\"similarity_matrix.npy\", similarity_matrix)"
   ]
  },
  {
   "cell_type": "code",
   "execution_count": null,
   "id": "c0486012",
   "metadata": {},
   "outputs": [],
   "source": []
  }
 ],
 "metadata": {
  "kernelspec": {
   "display_name": "togo",
   "language": "python",
   "name": "python3"
  },
  "language_info": {
   "codemirror_mode": {
    "name": "ipython",
    "version": 3
   },
   "file_extension": ".py",
   "mimetype": "text/x-python",
   "name": "python",
   "nbconvert_exporter": "python",
   "pygments_lexer": "ipython3",
   "version": "3.11.13"
  }
 },
 "nbformat": 4,
 "nbformat_minor": 5
}
