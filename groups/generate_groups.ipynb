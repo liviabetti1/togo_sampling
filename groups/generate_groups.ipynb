{
 "cells": [
  {
   "cell_type": "code",
   "execution_count": 7,
   "id": "b0508cfd",
   "metadata": {},
   "outputs": [],
   "source": [
    "import os\n",
    "import pickle\n",
    "import geopandas as gpd\n",
    "import pandas as pd"
   ]
  },
  {
   "cell_type": "code",
   "execution_count": 8,
   "id": "25273fc6",
   "metadata": {},
   "outputs": [],
   "source": [
    "def make_group_assignment(df, columns, id_col):\n",
    "    \"\"\"\n",
    "    Create a dict mapping from row ID to a combined group ID like 'COUNTY_NAME_COUNTYFP'.\n",
    "\n",
    "    Parameters:\n",
    "        df (pd.DataFrame): DataFrame with 'id' column and grouping columns\n",
    "        columns (list of str): Columns to join for the group ID\n",
    "\n",
    "    Returns:\n",
    "        dict: Mapping from df['id'] to joined string from selected columns\n",
    "    \"\"\"\n",
    "    group_ids = df[columns].astype(str).agg(\"_\".join, axis=1)\n",
    "    return dict(zip(df[id_col], group_ids))\n",
    "\n",
    "def save_dict_to_pkl(d, filepath):\n",
    "    \"\"\"\n",
    "    Save a dictionary to a pickle file.\n",
    "\n",
    "    Parameters:\n",
    "        d (dict): Dictionary to save\n",
    "        filepath (str): Full path to the output .pkl file\n",
    "    \"\"\"\n",
    "    with open(filepath, 'wb') as f:\n",
    "        pickle.dump(d, f)"
   ]
  },
  {
   "cell_type": "markdown",
   "id": "8300caeb",
   "metadata": {},
   "source": [
    "## Load GeoJson\n",
    "Columns should correspond to admin level columns in file"
   ]
  },
  {
   "cell_type": "code",
   "execution_count": 1,
   "id": "23b29b2b",
   "metadata": {},
   "outputs": [],
   "source": [
    "ADMIN_IDS = {\n",
    "    'admin_1': 'region',\n",
    "    'admin_2': 'prefecture',\n",
    "    'combined_adm_id': 'admin_3'\n",
    "}"
   ]
  },
  {
   "cell_type": "code",
   "execution_count": 2,
   "id": "ca517a99",
   "metadata": {},
   "outputs": [
    {
     "ename": "NameError",
     "evalue": "name 'gpd' is not defined",
     "output_type": "error",
     "traceback": [
      "\u001b[31m---------------------------------------------------------------------------\u001b[39m",
      "\u001b[31mNameError\u001b[39m                                 Traceback (most recent call last)",
      "\u001b[36mCell\u001b[39m\u001b[36m \u001b[39m\u001b[32mIn[2]\u001b[39m\u001b[32m, line 1\u001b[39m\n\u001b[32m----> \u001b[39m\u001b[32m1\u001b[39m gdf = \u001b[43mgpd\u001b[49m.read_file(\u001b[33m\"\u001b[39m\u001b[33mgdf_adm3.geojson\u001b[39m\u001b[33m\"\u001b[39m)\n\u001b[32m      3\u001b[39m output_dir = \u001b[33m\"\u001b[39m\u001b[33mgroup_assignments\u001b[39m\u001b[33m\"\u001b[39m\n\u001b[32m      4\u001b[39m os.makedirs(output_dir, exist_ok=\u001b[38;5;28;01mTrue\u001b[39;00m)\n",
      "\u001b[31mNameError\u001b[39m: name 'gpd' is not defined"
     ]
    }
   ],
   "source": [
    "gdf = gpd.read_file(\"gdf_adm3.geojson\")\n",
    "\n",
    "output_dir = \"group_assignments\"\n",
    "os.makedirs(output_dir, exist_ok=True)\n",
    "\n",
    "#create and save admin level assignment dictionaries\n",
    "for admin_level in ['admin_1', 'admin_2', 'combined_adm_id']:\n",
    "    admin_dict = make_group_assignment(gdf, [admin_level], 'id')\n",
    "    save_path = os.path.join(output_dir, f\"{ADMIN_IDS[admin_level]}_assignments_dict.pkl\")\n",
    "    save_dict_to_pkl(admin_dict, save_path)"
   ]
  }
 ],
 "metadata": {
  "kernelspec": {
   "display_name": "togo",
   "language": "python",
   "name": "python3"
  },
  "language_info": {
   "codemirror_mode": {
    "name": "ipython",
    "version": 3
   },
   "file_extension": ".py",
   "mimetype": "text/x-python",
   "name": "python",
   "nbconvert_exporter": "python",
   "pygments_lexer": "ipython3",
   "version": "3.11.13"
  }
 },
 "nbformat": 4,
 "nbformat_minor": 5
}
