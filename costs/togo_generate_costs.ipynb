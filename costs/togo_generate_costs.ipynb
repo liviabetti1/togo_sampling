{
 "cells": [
  {
   "cell_type": "code",
   "execution_count": null,
   "id": "761988bb",
   "metadata": {
    "vscode": {
     "languageId": "plaintext"
    }
   },
   "outputs": [],
   "source": [
    "from convenience_costs import compute_or_load_distances_to_urban, dist_to_cost, save_cost_array"
   ]
  },
  {
   "cell_type": "code",
   "execution_count": null,
   "id": "a4e34fde",
   "metadata": {
    "vscode": {
     "languageId": "plaintext"
    }
   },
   "outputs": [],
   "source": [
    "gdf_points = gpd.read_file(f\"admins/gdf_adm3.geojson\")\n",
    "\n",
    "lome_lat = 6.12874\n",
    "lome_lon = 1.22154\n",
    "city_point = Point(lome_lon, lome_lat)\n",
    "gdf_urban_top = gpd.GeoDataFrame({'geometry': [city_point]}, crs='EPSG:4326')\n",
    "\n",
    "#compute distance-based cost\n",
    "dist_dict = compute_or_load_distances_to_urban(gdf_points, gdf_urban_top, f\"distance_to_top1_urban.pkl\")\n",
    "dists = np.array([dist_dict[i] for i in gdf_points['id']])\n",
    "print(f\"Min/Max/Mean distance (m): {dists.min():.2f} / {dists.max():.2f} / {dists.mean():.2f}\")\n",
    "\n",
    "costs = dist_to_cost(dists, scale='sqrt', alpha=0.01)\n",
    "print(f\"Cost stats -> Min: {costs.min():.4f}, Max: {costs.max():.4f}, Mean: {costs.mean():.4f}\")\n",
    "\n",
    "# Save\n",
    "out_path = f\"/home/libe2152/optimizedsampling/0_data/costs/togo/convenience_costs/distance_based_costs_top1_urban.pkl\"\n",
    "save_cost_array(gdf_points['id'], costs, out_path)"
   ]
  }
 ],
 "metadata": {
  "language_info": {
   "name": "python"
  }
 },
 "nbformat": 4,
 "nbformat_minor": 5
}
