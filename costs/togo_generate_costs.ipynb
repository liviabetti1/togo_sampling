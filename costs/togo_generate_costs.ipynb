{
 "cells": [
  {
   "cell_type": "code",
   "execution_count": 1,
   "id": "389aa261",
   "metadata": {},
   "outputs": [],
   "source": [
    "import numpy as np\n",
    "import geopandas as gpd\n",
    "\n",
    "from shapely.geometry import Point"
   ]
  },
  {
   "cell_type": "markdown",
   "id": "4323149c",
   "metadata": {},
   "source": [
    "# Generate distance based costs\n",
    "These costs are a function of the distance from Lome."
   ]
  },
  {
   "cell_type": "code",
   "execution_count": 2,
   "id": "761988bb",
   "metadata": {},
   "outputs": [],
   "source": [
    "from convenience_costs import compute_or_load_distances_to_urban, dist_to_cost, save_cost_array"
   ]
  },
  {
   "cell_type": "code",
   "execution_count": 5,
   "id": "a4e34fde",
   "metadata": {},
   "outputs": [
    {
     "name": "stdout",
     "output_type": "stream",
     "text": [
      "Loading precomputed distances from distances/distance_to_top1_urban.pkl...\n",
      "Min/Max/Mean distance (m): 14337.24 / 576004.30 / 305388.59\n",
      "Converting distances to costs using scale: sqrt, alpha: 0.01\n",
      "Cost stats -> Min: 2.1974, Max: 8.5895, Mean: 6.3128\n",
      "Saved cost array with 24012 points to costs/distance_based_costs_top1_urban.pkl\n"
     ]
    }
   ],
   "source": [
    "gdf_points = gpd.read_file(f\"../groups/gdf_adm3.geojson\")\n",
    "\n",
    "lome_lat = 6.12874\n",
    "lome_lon = 1.22154\n",
    "city_point = Point(lome_lon, lome_lat)\n",
    "gdf_urban_top = gpd.GeoDataFrame({'geometry': [city_point]}, crs='EPSG:4326')\n",
    "\n",
    "#compute distance-based cost\n",
    "dist_dict = compute_or_load_distances_to_urban(gdf_points, gdf_urban_top, f\"distances/distance_to_top1_urban.pkl\")\n",
    "dists = np.array([dist_dict[i] for i in gdf_points['id']])\n",
    "print(f\"Min/Max/Mean distance (m): {dists.min():.2f} / {dists.max():.2f} / {dists.mean():.2f}\")\n",
    "\n",
    "costs = dist_to_cost(dists, scale='sqrt', alpha=0.01)\n",
    "print(f\"Cost stats -> Min: {costs.min():.4f}, Max: {costs.max():.4f}, Mean: {costs.mean():.4f}\")\n",
    "\n",
    "# Save\n",
    "out_path = f\"costs/distance_based_costs_top1_urban.pkl\"\n",
    "save_cost_array(gdf_points['id'], costs, out_path)"
   ]
  },
  {
   "cell_type": "markdown",
   "id": "852e6625",
   "metadata": {},
   "source": [
    "# Generate cluster based costs"
   ]
  },
  {
   "cell_type": "code",
   "execution_count": null,
   "id": "b3190a4d",
   "metadata": {},
   "outputs": [],
   "source": [
    "from convenience_costs import compute_or_load_cluster_centroid_distances_to_urban"
   ]
  },
  {
   "cell_type": "code",
   "execution_count": 7,
   "id": "c6eb84d3",
   "metadata": {},
   "outputs": [],
   "source": [
    "gdf_adm3 = gpd.read_file(\"../shapefiles/tgo_admbnda_adm3_inseed_20210107.shp\")\n",
    "\n",
    "gdf_adm3['combined_adm_id'] = (\n",
    "    gdf_adm3['ADM3_PCODE'].astype(str) + \"_\" +\n",
    "    gdf_adm3['ADM2_PCODE'].astype(str) + \"_\" +\n",
    "    gdf_adm3['ADM1_PCODE'].astype(str)\n",
    ")"
   ]
  },
  {
   "cell_type": "code",
   "execution_count": null,
   "id": "69e34751",
   "metadata": {},
   "outputs": [],
   "source": [
    "gdf_points = gpd.read_file(f\"../groups/gdf_adm3.geojson\")\n",
    "\n",
    "lome_lat = 6.12874\n",
    "lome_lon = 1.22154\n",
    "city_point = Point(lome_lon, lome_lat)\n",
    "gdf_urban_top = gpd.GeoDataFrame({'geometry': [city_point]}, crs='EPSG:4326')\n",
    "\n",
    "gdf_clusters = gdf_adm3.copy()\n",
    "cluster_ids = gdf_points['combined_adm_id'].astype(str).values\n",
    "\n",
    "#compute distance-based cost\n",
    "dist_dict = compute_or_load_cluster_centroid_distances_to_urban(gdf_clusters, gdf_urban_top, f\"distances/adm3_distance_to_top1_urban.pkl\")\n",
    "dists = np.array([dist_dict[i] for i in cluster_ids])\n",
    "print(f\"Min/Max/Mean distance (m): {dists.min():.2f} / {dists.max():.2f} / {dists.mean():.2f}\")\n",
    "\n",
    "costs = dist_to_cost(dists, scale='sqrt', alpha=0.01)\n",
    "print(f\"Cost stats -> Min: {costs.min():.4f}, Max: {costs.max():.4f}, Mean: {costs.mean():.4f}\")\n",
    "\n",
    "# Save\n",
    "out_path = f\"costs/distance_based_costs_top1_urban.pkl\"\n",
    "save_cost_array(gdf_points['id'], costs, out_path)"
   ]
  }
 ],
 "metadata": {
  "kernelspec": {
   "display_name": "togo",
   "language": "python",
   "name": "python3"
  },
  "language_info": {
   "codemirror_mode": {
    "name": "ipython",
    "version": 3
   },
   "file_extension": ".py",
   "mimetype": "text/x-python",
   "name": "python",
   "nbconvert_exporter": "python",
   "pygments_lexer": "ipython3",
   "version": "3.11.13"
  }
 },
 "nbformat": 4,
 "nbformat_minor": 5
}
